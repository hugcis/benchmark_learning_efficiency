{
 "cells": [
  {
   "cell_type": "code",
   "execution_count": 14,
   "id": "30ad7b91-37cd-4747-b296-defd80e5c1c6",
   "metadata": {},
   "outputs": [],
   "source": [
    "import seaborn as sns\n",
    "\n",
    "sns.set_style(\"whitegrid\")\n",
    "\n",
    "import pathlib\n",
    "import pickle as pkl\n",
    "from typing import Optional\n",
    "\n",
    "import matplotlib.pyplot as plt\n",
    "import numpy as np"
   ]
  },
  {
   "cell_type": "code",
   "execution_count": 37,
   "id": "43a6c1fe-a76b-43e2-810a-1d92d0cd4142",
   "metadata": {},
   "outputs": [],
   "source": [
    "def time_to(per, arr):\n",
    "    v = arr > per\n",
    "    return np.argmax(v, axis=-1) - np.bitwise_not(np.any(v, axis=1)).astype(int)\n",
    "\n",
    "\n",
    "def get_ttos_from_data(\n",
    "    base,\n",
    "    inv_norm=True,\n",
    "    do_sum=True,\n",
    "    step=0.01,\n",
    "    isbin=False,\n",
    "    weight=10,\n",
    "    log=False,\n",
    "    speed=False,\n",
    "    output_size: Optional[int] = None,\n",
    "    factor: Optional[int] = None,\n",
    "):\n",
    "    ttos, rg = compute_spread_ttos(\n",
    "        base, step=step, output_size=output_size, factor=factor\n",
    "    )\n",
    "\n",
    "    if inv_norm:\n",
    "        if do_sum:\n",
    "            return ode_metric(\n",
    "                ttos,\n",
    "                do_sum=do_sum,\n",
    "                isbin=isbin,\n",
    "                wg=weight,\n",
    "                log=log,\n",
    "                speed=speed,\n",
    "                step=step,\n",
    "                output_size=output_size,\n",
    "            )\n",
    "        else:\n",
    "            return ode_metric(\n",
    "                ttos,\n",
    "                do_sum=do_sum,\n",
    "                isbin=isbin,\n",
    "                wg=weight,\n",
    "                log=log,\n",
    "                speed=speed,\n",
    "                step=step,\n",
    "                output_size=output_size,\n",
    "            )\n",
    "    else:\n",
    "        return ttos\n",
    "\n",
    "\n",
    "def mean_tto(tto):\n",
    "    res = []\n",
    "    for k in tto:\n",
    "        n = np.sum(k > -1)\n",
    "        if n > 0:\n",
    "            res.append([np.mean(k[k > -1]), n / len(k)])\n",
    "        else:\n",
    "            res.append([-1, 0])\n",
    "    return res\n",
    "\n",
    "\n",
    "def best_tto(tto):\n",
    "    res = []\n",
    "    for k in tto:\n",
    "        n = np.sum(k > -1)\n",
    "        if n > 0:\n",
    "            res.append(np.min(k[k > -1]))\n",
    "        else:\n",
    "            res.append(-1)\n",
    "    return res\n",
    "\n",
    "\n",
    "def compute_spread_ttos(\n",
    "    vec, step=0.01, output_size: Optional[int] = None, factor: Optional[float] = None\n",
    ") -> np.ndarray:\n",
    "    if output_size is not None:\n",
    "        rg = np.arange(1 / output_size, 1, step)\n",
    "    else:\n",
    "        rg = np.arange(0, 1, step)\n",
    "    res = np.array([time_to(p, vec) for p in rg]).astype(float)\n",
    "\n",
    "    if factor is not None:\n",
    "        res[res > 0] /= factor\n",
    "    return res, rg\n",
    "\n",
    "\n",
    "def ode_metric(\n",
    "    ttos,\n",
    "    wg=10,\n",
    "    do_sum=True,\n",
    "    isbin=False,\n",
    "    log=False,\n",
    "    speed=False,\n",
    "    step=0.01,\n",
    "    output_size: Optional[int] = None,\n",
    "):\n",
    "    r = (ttos + 1).astype(float)\n",
    "    r[r == 0] = np.inf\n",
    "\n",
    "    if not speed:\n",
    "        weight = np.zeros(r.shape[0])\n",
    "        fn = np.linspace if not log else np.logspace\n",
    "        if isbin:\n",
    "            weight[-r.shape[0] // 2 + 1 :] += fn(1, wg, r.shape[0] // 2)\n",
    "        else:\n",
    "            weight[-r.shape[0] :] += fn(1, wg, r.shape[0])\n",
    "        weight = weight[:, None]\n",
    "        weight /= weight.sum()\n",
    "        res = weight * (1 / r)\n",
    "    else:\n",
    "        if output_size is not None:\n",
    "            inv = 1 / output_size\n",
    "            rg = (np.arange(inv, 1, step) - inv) / (1 - inv)\n",
    "        else:\n",
    "\n",
    "            rg = np.arange(0, 1, step)\n",
    "            # rg = np.ones_like(np.arange(0, 1, step))\n",
    "\n",
    "        weight = rg\n",
    "        res = weight[:, None] * 1 / r\n",
    "\n",
    "    # range_vec = np.arange(0, 1, step)\n",
    "    range_vec = weight\n",
    "    if do_sum:\n",
    "        return (res / weight[:, None].sum()).sum(0)\n",
    "    else:\n",
    "        return res, range_vec\n",
    "    \n",
    "def numpy_ewma_vectorized(data, window):\n",
    "    alpha = 2 / (window + 1.0)\n",
    "    alpha_rev = 1 - alpha\n",
    "\n",
    "    scale = 1 / alpha_rev\n",
    "    n = data.shape[0]\n",
    "\n",
    "    r = np.arange(n)\n",
    "    scale_arr = scale**r\n",
    "    offset = data[0] * alpha_rev ** (r + 1)\n",
    "    pw0 = alpha * alpha_rev ** (n - 1)\n",
    "\n",
    "    mult = data * pw0 * scale_arr\n",
    "    cumsums = mult.cumsum()\n",
    "    out = offset + cumsums * scale_arr[::-1]\n",
    "    return out"
   ]
  },
  {
   "cell_type": "code",
   "execution_count": 28,
   "id": "1c4bd851-31ce-4a3f-9c6c-15fb383446b3",
   "metadata": {},
   "outputs": [
    {
     "data": {
      "text/plain": [
       "dict_keys(['LSTM', 'GRU', 'Transformer', 'RNN', 'Linear-init2'])"
      ]
     },
     "execution_count": 28,
     "metadata": {},
     "output_type": "execute_result"
    }
   ],
   "source": [
    "data_all.keys()"
   ]
  },
  {
   "cell_type": "code",
   "execution_count": 59,
   "id": "3186a312-be71-47ef-8125-8abe078726c5",
   "metadata": {},
   "outputs": [],
   "source": [
    "gpu = pathlib.Path(\"../experiment_gpu/\")\n",
    "data_all = {}\n",
    "data = {}\n",
    "opts = {}\n",
    "for f in gpu.glob(\"*.pkl\"):\n",
    "    model = f.stem.split(\"_\")[-1]\n",
    "    if model not in [\"rnn\", \"lstm\", \"gru\", \"dpout\", \"Linear-wd\", \"Linear\", \"Linear-init\"]:\n",
    "        if model not in data:\n",
    "            data_all[model] = []\n",
    "            data[model] = []\n",
    "        dt, opts = pkl.load(open(f, \"rb\"))\n",
    "        dt = np.array(dt)\n",
    "        if model == \"Linear-init2\":\n",
    "            dt[:, 1] = numpy_ewma_vectorized(dt[:, 1], 10)\n",
    "            \n",
    "        if dt[:, 0].max() > 150000:\n",
    "            data_all[model].append(dt)\n",
    "\n",
    "# Compute the minimal x-axis support for all the data and select only\n",
    "# those points to make the ttos and aggregates possible\n",
    "for k in data_all:\n",
    "    base = set(data_all[k][0][:, 0])\n",
    "    base.intersection_update(*[set(i[:, 0]) for i in data_all[k][1:]])\n",
    "    base = np.array(sorted(base))\n",
    "    for vec in data_all[k]:\n",
    "        new_vec = np.array([i for i in vec if i[0] in base])\n",
    "        data[k].append(new_vec)\n",
    "\n",
    "for k in data:\n",
    "\n",
    "    data[k] = data[k][:50]"
   ]
  },
  {
   "cell_type": "code",
   "execution_count": 60,
   "id": "9247015a-52ce-4709-849a-b6c29a8dedd7",
   "metadata": {},
   "outputs": [
    {
     "name": "stdout",
     "output_type": "stream",
     "text": [
      "[('LSTM', 50), ('GRU', 50), ('Linear-init2', 50), ('Transformer', 50), ('RNN', 50)]\n"
     ]
    }
   ],
   "source": [
    "print([(k, len(v)) for k, v in data.items()])\n",
    "\n",
    "# for i in data[\"Transformer\"]:\n",
    "#    i[:, 1] /= 7"
   ]
  },
  {
   "cell_type": "code",
   "execution_count": 72,
   "id": "3f54831b-1980-43ae-9a45-065a755cf983",
   "metadata": {
    "tags": []
   },
   "outputs": [
    {
     "name": "stdout",
     "output_type": "stream",
     "text": [
      "LSTM WADE 0.0227952797135458 Test accuracy 0.8894360000034331 Max test accuracy 0.9015296000030518\n",
      "GRU WADE 0.027112907996731352 Test accuracy 0.8967688000000001 Max test accuracy 0.9043968\n",
      "Linear WADE 0.037366461847068065 Test accuracy 0.8622777654968453 Max test accuracy 0.8622955735817017\n",
      "Transformer WADE 0.0871555093206745 Test accuracy 0.8115608000000001 Max test accuracy 0.8719711999999998\n",
      "RNN WADE 0.010281467535620764 Test accuracy 0.6359992 Max test accuracy 0.7047831999999998\n"
     ]
    },
    {
     "data": {
      "image/png": "[encoded data removed]",
      "text/plain": [
       "<Figure size 288x216 with 1 Axes>"
      ]
     },
     "metadata": {},
     "output_type": "display_data"
    }
   ],
   "source": [
    "table = [\n",
    "    \"\\\\toprule\",\n",
    "    r\"& \\bfseries WADE $\\times 10^{-2}$ (std.) & \\bfseries Max test accuracy (std.) \\\\\",\n",
    "    \"\\\\midrule\",\n",
    "]\n",
    "fig, ax = plt.subplots(figsize=(4, 3))\n",
    "for key, items in data.items():\n",
    "    if key == \"Linear-init2\":\n",
    "        key = \"Linear\"\n",
    "    max_len = max(i.shape[0] for i in items)\n",
    "    same_len = np.array([i for i in items if i.shape[0] == max_len])\n",
    "\n",
    "    index = same_len[0, :, 0]\n",
    "    results = same_len[:, :, 1]\n",
    "    mean = results.mean(0)\n",
    "    std = results.std(0)\n",
    "    tto = get_ttos_from_data(results, do_sum=True, output_size=2)\n",
    "    print(\n",
    "        key,\n",
    "        \"WADE\",\n",
    "        tto.mean(),\n",
    "        \"Test accuracy\",\n",
    "        results[:, -1].mean(),\n",
    "        \"Max test accuracy\",\n",
    "        results.max(1).mean(),\n",
    "    )\n",
    "    table.append(\n",
    "        f\"{key} & {100 * tto.mean():.3f} ${{\\scriptstyle \\\\pm{100 * tto.std():.3f}}}$ & {results.max(1).mean():.3f} ${{\\scriptstyle \\\\pm{results.max(1).std():.3f} }}$ \\\\\\\\\"\n",
    "    )\n",
    "    c = ax.fill_between(index, mean - std, mean + std, alpha=0.3)\n",
    "\n",
    "    ax.plot(\n",
    "        index,\n",
    "        mean,\n",
    "        color=c.get_facecolor()[0, :3],\n",
    "        label=f\"{key} (${100 * tto.mean():.1f}.10^{{-2}}$)\",\n",
    "    )\n",
    "table.append(\"\\\\bottomrule\")\n",
    "plt.semilogx()\n",
    "ax.legend(prop={\"size\": 9})\n",
    "ax.set_xlabel(\"Number of training steps\")\n",
    "ax.set_ylabel(\"Test accuracy\")\n",
    "fig.tight_layout()\n",
    "fig.savefig(\"/Users/hugo/Work/papers/neurips2022/figures/wade_supervised.pdf\")"
   ]
  },
  {
   "cell_type": "code",
   "execution_count": 73,
   "id": "f068299a-102b-4c77-b400-0e995a6f3bf8",
   "metadata": {},
   "outputs": [
    {
     "data": {
      "text/plain": [
       "[<matplotlib.lines.Line2D at 0x297e34e80>]"
      ]
     },
     "execution_count": 73,
     "metadata": {},
     "output_type": "execute_result"
    },
    {
     "data": {
      "image/png": "[encoded data removed]",
      "text/plain": [
       "<Figure size 432x288 with 1 Axes>"
      ]
     },
     "metadata": {},
     "output_type": "display_data"
    }
   ],
   "source": [
    "plt.plot(*data[\"Linear-init2\"][0].T)"
   ]
  },
  {
   "cell_type": "code",
   "execution_count": null,
   "id": "24a2e84a-3590-499c-b9c1-5655f3909110",
   "metadata": {},
   "outputs": [],
   "source": []
  },
  {
   "cell_type": "code",
   "execution_count": 74,
   "id": "a187432a-89fa-4062-86d6-f9151758bbe6",
   "metadata": {},
   "outputs": [
    {
     "name": "stdout",
     "output_type": "stream",
     "text": [
      "\\toprule\n",
      "& \\bfseries WADE $\\times 10^{-2}$ (std.) & \\bfseries Max test accuracy (std.) \\\\\n",
      "\\midrule\n",
      "LSTM & 2.280 ${\\scriptstyle \\pm0.303}$ & 0.902 ${\\scriptstyle \\pm0.002 }$ \\\\\n",
      "GRU & 2.711 ${\\scriptstyle \\pm0.318}$ & 0.904 ${\\scriptstyle \\pm0.002 }$ \\\\\n",
      "Linear & 3.737 ${\\scriptstyle \\pm0.745}$ & 0.862 ${\\scriptstyle \\pm0.000 }$ \\\\\n",
      "Transformer & 8.716 ${\\scriptstyle \\pm0.720}$ & 0.872 ${\\scriptstyle \\pm0.003 }$ \\\\\n",
      "RNN & 1.028 ${\\scriptstyle \\pm0.283}$ & 0.705 ${\\scriptstyle \\pm0.076 }$ \\\\\n",
      "\\bottomrule\n"
     ]
    }
   ],
   "source": [
    "print(\"\\n\".join(table))"
   ]
  },
  {
   "cell_type": "code",
   "execution_count": 68,
   "id": "65ec8477-73b3-4de0-b580-593e036ce6a6",
   "metadata": {},
   "outputs": [
    {
     "data": {
      "text/plain": [
       "array([0.896  , 0.90136, 0.90256, 0.9022 , 0.9006 , 0.90288, 0.89684,\n",
       "       0.90476, 0.90052, 0.89672, 0.90196, 0.90292, 0.90472, 0.9044 ,\n",
       "       0.90328, 0.90276, 0.90232, 0.902  , 0.90228, 0.90356, 0.90156,\n",
       "       0.89972, 0.90032, 0.8996 , 0.90244, 0.90012, 0.90328, 0.9018 ,\n",
       "       0.90212, 0.90012, 0.90168, 0.90236, 0.90188, 0.89996, 0.90028,\n",
       "       0.90184, 0.90412, 0.89956, 0.90448, 0.90204, 0.89996, 0.90156,\n",
       "       0.90432, 0.90272, 0.8998 , 0.89988, 0.90252, 0.90216, 0.9026 ,\n",
       "       0.90216, 0.89912, 0.90008, 0.90292, 0.90424, 0.90508, 0.89956,\n",
       "       0.90588, 0.9036 , 0.9006 , 0.90124, 0.89952, 0.90244, 0.90012,\n",
       "       0.9026 , 0.90044, 0.89952, 0.904  , 0.90212, 0.8948 , 0.90016,\n",
       "       0.90136])"
      ]
     },
     "execution_count": 68,
     "metadata": {},
     "output_type": "execute_result"
    }
   ],
   "source": [
    "results.max(1)"
   ]
  },
  {
   "cell_type": "code",
   "execution_count": null,
   "id": "599db843-e126-471b-b2a6-fbfddbeb10ac",
   "metadata": {},
   "outputs": [],
   "source": []
  }
 ],
 "metadata": {
  "kernelspec": {
   "display_name": "Python 3 (ipykernel)",
   "language": "python",
   "name": "python3"
  },
  "language_info": {
   "codemirror_mode": {
    "name": "ipython",
    "version": 3
   },
   "file_extension": ".py",
   "mimetype": "text/x-python",
   "name": "python",
   "nbconvert_exporter": "python",
   "pygments_lexer": "ipython3",
   "version": "3.9.9"
  }
 },
 "nbformat": 4,
 "nbformat_minor": 5
}
